{
  "nbformat": 4,
  "nbformat_minor": 0,
  "metadata": {
    "colab": {
      "name": "Day1-session2-Exercise.ipynb",
      "provenance": [],
      "authorship_tag": "ABX9TyP7BZF9NlptSkFRiPWAJMZh",
      "include_colab_link": true
    },
    "kernelspec": {
      "name": "python3",
      "display_name": "Python 3"
    }
  },
  "cells": [
    {
      "cell_type": "markdown",
      "metadata": {
        "id": "view-in-github",
        "colab_type": "text"
      },
      "source": [
        "<a href=\"https://colab.research.google.com/github/sushmithaganiga/python-workshop/blob/master/Day1_session2_Exercise.ipynb\" target=\"_parent\"><img src=\"https://colab.research.google.com/assets/colab-badge.svg\" alt=\"Open In Colab\"/></a>"
      ]
    },
    {
      "cell_type": "markdown",
      "metadata": {
        "id": "a0tp-XqmlBU3",
        "colab_type": "text"
      },
      "source": [
        "# Write a program to print the triangle"
      ]
    },
    {
      "cell_type": "code",
      "metadata": {
        "id": "O2Y07ci1lEk5",
        "colab_type": "code",
        "colab": {
          "base_uri": "https://localhost:8080/",
          "height": 126
        },
        "outputId": "a3709f2e-d2a3-4113-bbe0-ddbd468bd856"
      },
      "source": [
        "k=1\n",
        "n=int(input(\"enter n value: \"))\n",
        "for i in range(0,n):\n",
        "  if(i>=2):\n",
        "    k=i+1\n",
        "  for j in range(0,i+1):\n",
        "    print(k,end=\" \")\n",
        "    k=k+1\n",
        "  print()"
      ],
      "execution_count": 1,
      "outputs": [
        {
          "output_type": "stream",
          "text": [
            "enter n value: 5\n",
            "1 \n",
            "2 3 \n",
            "3 4 5 \n",
            "4 5 6 7 \n",
            "5 6 7 8 9 \n"
          ],
          "name": "stdout"
        }
      ]
    },
    {
      "cell_type": "markdown",
      "metadata": {
        "id": "9E0SyL3AlR8v",
        "colab_type": "text"
      },
      "source": [
        "# python program to print pattern"
      ]
    },
    {
      "cell_type": "code",
      "metadata": {
        "id": "fVtXXo8vlVvx",
        "colab_type": "code",
        "colab": {
          "base_uri": "https://localhost:8080/",
          "height": 108
        },
        "outputId": "5fbee58b-66a8-4c53-a9af-69a14bfd539b"
      },
      "source": [
        "rows =int(input(\"enter num: \"))\n",
        "for i in range(0, rows):\n",
        "    for j in range(0, i + 1):\n",
        "        print(\"*\", end=' ')\n",
        "\n",
        "    print(\"\\r\")"
      ],
      "execution_count": 2,
      "outputs": [
        {
          "output_type": "stream",
          "text": [
            "enter num: 4\n",
            "* \n",
            "* * \n",
            "* * * \n",
            "* * * * \n"
          ],
          "name": "stdout"
        }
      ]
    },
    {
      "cell_type": "code",
      "metadata": {
        "id": "zfeHvpU_lemv",
        "colab_type": "code",
        "colab": {
          "base_uri": "https://localhost:8080/",
          "height": 108
        },
        "outputId": "2a959f16-7475-4369-f2e4-64677a3817de"
      },
      "source": [
        "k=4\n",
        "n=int(input(\"enter n value: \"))\n",
        "for i in range(n+1,0,-1):\n",
        "  for j in range(i,n+1):\n",
        "    print(j,end=\" \")\n",
        "    \n",
        "    \n",
        "  print()"
      ],
      "execution_count": 3,
      "outputs": [
        {
          "output_type": "stream",
          "text": [
            "enter n value: 3\n",
            "\n",
            "3 \n",
            "2 3 \n",
            "1 2 3 \n"
          ],
          "name": "stdout"
        }
      ]
    },
    {
      "cell_type": "code",
      "metadata": {
        "id": "CIThIOkwlkmD",
        "colab_type": "code",
        "colab": {
          "base_uri": "https://localhost:8080/",
          "height": 145
        },
        "outputId": "8363f932-f6e5-4c8f-8eb7-0b12c0c44e5d"
      },
      "source": [
        "rows = int(input(\"enter num : \"))\n",
        "for i in range(0, rows + 1):\n",
        "    for j in range(rows - i, 0, -1):\n",
        "        print(j, end=' ')\n",
        "    print()"
      ],
      "execution_count": 4,
      "outputs": [
        {
          "output_type": "stream",
          "text": [
            "enter num : 5\n",
            "5 4 3 2 1 \n",
            "4 3 2 1 \n",
            "3 2 1 \n",
            "2 1 \n",
            "1 \n",
            "\n"
          ],
          "name": "stdout"
        }
      ]
    },
    {
      "cell_type": "code",
      "metadata": {
        "id": "QnOZs-_wlrIP",
        "colab_type": "code",
        "colab": {
          "base_uri": "https://localhost:8080/",
          "height": 163
        },
        "outputId": "4a9258de-a089-4c6e-9e06-094b24748d6e"
      },
      "source": [
        "rows = 5\n",
        "n=rows-1\n",
        "for i in range(1, rows-1):\n",
        "    for j in range(i,rows):\n",
        "        print(j,end=\" \")\n",
        "    print()\n",
        "for i in range(n+1,0,-1):\n",
        "  for j in range(i,n+1):\n",
        "    print(j,end=\" \")\n",
        "  print()"
      ],
      "execution_count": 5,
      "outputs": [
        {
          "output_type": "stream",
          "text": [
            "1 2 3 4 \n",
            "2 3 4 \n",
            "3 4 \n",
            "\n",
            "4 \n",
            "3 4 \n",
            "2 3 4 \n",
            "1 2 3 4 \n"
          ],
          "name": "stdout"
        }
      ]
    },
    {
      "cell_type": "markdown",
      "metadata": {
        "id": "YTLcmhWDlvWF",
        "colab_type": "text"
      },
      "source": [
        "# Find the length of a string without using len functions"
      ]
    },
    {
      "cell_type": "code",
      "metadata": {
        "id": "EWkm9XzGl082",
        "colab_type": "code",
        "colab": {
          "base_uri": "https://localhost:8080/",
          "height": 54
        },
        "outputId": "32ae7d0c-a109-4621-f772-701988bada12"
      },
      "source": [
        "str = input(\"Enter a string: \")\n",
        "counter = 0\n",
        "for s in str:\n",
        "      counter = counter+1\n",
        "print(\"Length of the input string is:\", counter)"
      ],
      "execution_count": 6,
      "outputs": [
        {
          "output_type": "stream",
          "text": [
            "Enter a string: goodmorning\n",
            "Length of the input string is: 11\n"
          ],
          "name": "stdout"
        }
      ]
    },
    {
      "cell_type": "markdown",
      "metadata": {
        "id": "W3RGAtRmmBHZ",
        "colab_type": "text"
      },
      "source": [
        "# Find the no of words and characters in a string"
      ]
    },
    {
      "cell_type": "code",
      "metadata": {
        "id": "ezf2PZommFPF",
        "colab_type": "code",
        "colab": {
          "base_uri": "https://localhost:8080/",
          "height": 108
        },
        "outputId": "07d360b0-5a2b-4712-b0e5-0bd69905021a"
      },
      "source": [
        "string=input(\"Enter string:\")\n",
        "char=0\n",
        "word=1\n",
        "for i in string:\n",
        "      char=char+1\n",
        "      if(i==' '):\n",
        "            word=word+1\n",
        "print(\"Number of words in the string:\")\n",
        "print(word)\n",
        "print(\"Number of characters in the string:\")\n",
        "print(char)"
      ],
      "execution_count": 7,
      "outputs": [
        {
          "output_type": "stream",
          "text": [
            "Enter string:this is dog\n",
            "Number of words in the string:\n",
            "3\n",
            "Number of characters in the string:\n",
            "11\n"
          ],
          "name": "stdout"
        }
      ]
    },
    {
      "cell_type": "markdown",
      "metadata": {
        "id": "u6PkBSt_mcIu",
        "colab_type": "text"
      },
      "source": [
        "# Find the no of occurrences of each word in a string"
      ]
    },
    {
      "cell_type": "code",
      "metadata": {
        "id": "h6L7pBAlmf1H",
        "colab_type": "code",
        "colab": {
          "base_uri": "https://localhost:8080/",
          "height": 35
        },
        "outputId": "858088a9-9ff4-4793-ba72-3f092873155d"
      },
      "source": [
        "def word_count(str):\n",
        "    counts = dict()\n",
        "    words = str.split()\n",
        "\n",
        "    for word in words:\n",
        "        if word in counts:\n",
        "            counts[word] += 1\n",
        "        else:\n",
        "            counts[word] = 1\n",
        "\n",
        "    return counts\n",
        "\n",
        "print( word_count('the quick brown fox jumps over the lazy dog.'))"
      ],
      "execution_count": 8,
      "outputs": [
        {
          "output_type": "stream",
          "text": [
            "{'the': 2, 'quick': 1, 'brown': 1, 'fox': 1, 'jumps': 1, 'over': 1, 'lazy': 1, 'dog.': 1}\n"
          ],
          "name": "stdout"
        }
      ]
    }
  ]
}