{
  "nbformat": 4,
  "nbformat_minor": 0,
  "metadata": {
    "colab": {
      "name": "Day2-session1-Exercise.ipynb",
      "provenance": [],
      "authorship_tag": "ABX9TyO07j1b4DNKwZ4uoSdpVWuC",
      "include_colab_link": true
    },
    "kernelspec": {
      "name": "python3",
      "display_name": "Python 3"
    }
  },
  "cells": [
    {
      "cell_type": "markdown",
      "metadata": {
        "id": "view-in-github",
        "colab_type": "text"
      },
      "source": [
        "<a href=\"https://colab.research.google.com/github/sushmithaganiga/python-workshop/blob/master/Day2_session1_Exercise.ipynb\" target=\"_parent\"><img src=\"https://colab.research.google.com/assets/colab-badge.svg\" alt=\"Open In Colab\"/></a>"
      ]
    },
    {
      "cell_type": "markdown",
      "metadata": {
        "id": "zPNwRZhjJOGh",
        "colab_type": "text"
      },
      "source": [
        "# print multiples of 3 upto 200 using a list"
      ]
    },
    {
      "cell_type": "code",
      "metadata": {
        "id": "sdG-3RncJPNn",
        "colab_type": "code",
        "colab": {
          "base_uri": "https://localhost:8080/",
          "height": 55
        },
        "outputId": "72b4da59-4f67-4271-bf2a-4c5fdc5c7e9e"
      },
      "source": [
        "print(([i  for i in range(0,200) if i%3==0]))"
      ],
      "execution_count": 1,
      "outputs": [
        {
          "output_type": "stream",
          "text": [
            "[0, 3, 6, 9, 12, 15, 18, 21, 24, 27, 30, 33, 36, 39, 42, 45, 48, 51, 54, 57, 60, 63, 66, 69, 72, 75, 78, 81, 84, 87, 90, 93, 96, 99, 102, 105, 108, 111, 114, 117, 120, 123, 126, 129, 132, 135, 138, 141, 144, 147, 150, 153, 156, 159, 162, 165, 168, 171, 174, 177, 180, 183, 186, 189, 192, 195, 198]\n"
          ],
          "name": "stdout"
        }
      ]
    },
    {
      "cell_type": "markdown",
      "metadata": {
        "id": "aVHdE-CSJXvU",
        "colab_type": "text"
      },
      "source": [
        "# print the nos only divisable by 5 and 7 between 1000 and 2000 using a list( both inclusive)"
      ]
    },
    {
      "cell_type": "code",
      "metadata": {
        "id": "A6RmtOjkJYuy",
        "colab_type": "code",
        "colab": {
          "base_uri": "https://localhost:8080/",
          "height": 55
        },
        "outputId": "ec8e85fd-2979-4047-d745-0b088f9710bf"
      },
      "source": [
        "print(([i  for i in range(1000,2000) if(i%5==0 and i%7==0)]))"
      ],
      "execution_count": 2,
      "outputs": [
        {
          "output_type": "stream",
          "text": [
            "[1015, 1050, 1085, 1120, 1155, 1190, 1225, 1260, 1295, 1330, 1365, 1400, 1435, 1470, 1505, 1540, 1575, 1610, 1645, 1680, 1715, 1750, 1785, 1820, 1855, 1890, 1925, 1960, 1995]\n"
          ],
          "name": "stdout"
        }
      ]
    },
    {
      "cell_type": "markdown",
      "metadata": {
        "id": "lp7Ft5tzJd_0",
        "colab_type": "text"
      },
      "source": [
        "# Add the n number of names in a list and print them alphabetically and reverse alphabetically"
      ]
    },
    {
      "cell_type": "code",
      "metadata": {
        "id": "R8v9x_GSJfiX",
        "colab_type": "code",
        "colab": {
          "base_uri": "https://localhost:8080/",
          "height": 181
        },
        "outputId": "1ce43866-21ed-480e-f065-5fdb68bd01fd"
      },
      "source": [
        "names=([(input()) for i in range(int(input(\"Enter n: \")))])\n",
        "print(\"Input :\",names)\n",
        "names.sort()\n",
        "print(\"alphabetically : \",names)\n",
        "names.sort(reverse=True)\n",
        "print(\"reverse alphabetically: \",names)"
      ],
      "execution_count": 3,
      "outputs": [
        {
          "output_type": "stream",
          "text": [
            "Enter n: 5\n",
            "ram\n",
            "seetha\n",
            "arjun\n",
            "bheem\n",
            "radha\n",
            "Input : ['ram', 'seetha', 'arjun', 'bheem', 'radha']\n",
            "alphabetically :  ['arjun', 'bheem', 'radha', 'ram', 'seetha']\n",
            "reverse alphabetically:  ['seetha', 'ram', 'radha', 'bheem', 'arjun']\n"
          ],
          "name": "stdout"
        }
      ]
    },
    {
      "cell_type": "markdown",
      "metadata": {
        "id": "31W2ZyC5JtcX",
        "colab_type": "text"
      },
      "source": [
        "# Print perfect squares and divisible by 5 between 500 and 1000( (both inclusive) using list"
      ]
    },
    {
      "cell_type": "code",
      "metadata": {
        "id": "a356AMYQJwnR",
        "colab_type": "code",
        "colab": {
          "base_uri": "https://localhost:8080/",
          "height": 35
        },
        "outputId": "138dcab3-ef8d-4550-a254-c20d5a940cab"
      },
      "source": [
        "def perfectSquares(l, r): \n",
        "\tfor i in range(l, r + 1): \n",
        "\t\tif ((i**(.5) == int(i**(.5))) and i%5==0): \n",
        "\t\t\tprint(i, end=\" \") \n",
        "perfectSquares(500, 1000)"
      ],
      "execution_count": 4,
      "outputs": [
        {
          "output_type": "stream",
          "text": [
            "625 900 "
          ],
          "name": "stdout"
        }
      ]
    },
    {
      "cell_type": "markdown",
      "metadata": {
        "id": "7XuHS-d9J2HY",
        "colab_type": "text"
      },
      "source": [
        "# Get a string and store word by word as elements in a tuple and find the largest word in the tuple and print it"
      ]
    },
    {
      "cell_type": "code",
      "metadata": {
        "id": "bFIDRhTNJ3LU",
        "colab_type": "code",
        "colab": {
          "base_uri": "https://localhost:8080/",
          "height": 72
        },
        "outputId": "e169b578-f2c1-4399-a080-a2bd205deaa9"
      },
      "source": [
        "txt=input(\"enter string: \")\n",
        "words = txt.split()\n",
        "a = list()\n",
        "for word in words:\n",
        "  a.append((word))\n",
        "max1=len(a[0])\n",
        "temp=a[0]\n",
        "for i in a:\n",
        "    if(len(i)>max1):\n",
        "       max1=len(i)\n",
        "       temp=i\n",
        "print(\"The word with the longest length is:\")\n",
        "print(temp)"
      ],
      "execution_count": 6,
      "outputs": [
        {
          "output_type": "stream",
          "text": [
            "enter string: good morning\n",
            "The word with the longest length is:\n",
            "morning\n"
          ],
          "name": "stdout"
        }
      ]
    },
    {
      "cell_type": "markdown",
      "metadata": {
        "id": "hKGdFFm8KKNX",
        "colab_type": "text"
      },
      "source": [
        "# Get rollno and marks (Rollno, mark) as list of tuples for n number of students through keyboard and print them in marks descending order with rollno"
      ]
    },
    {
      "cell_type": "code",
      "metadata": {
        "id": "olk6Wx7XKLr4",
        "colab_type": "code",
        "colab": {
          "base_uri": "https://localhost:8080/",
          "height": 254
        },
        "outputId": "49c9e1ec-875e-41fd-9264-4398d4c98d04"
      },
      "source": [
        "\n",
        "t=[]\n",
        "a=[]\n",
        "n=int(input(\"enter num of students: \"))\n",
        "for i in range(0,n):\n",
        "  e=int(input(\"enter rollnum: \"))\n",
        "  j=int(input(\"enter marks: \"))\n",
        "  t.append(e)\n",
        "  a.append(j)\n",
        "m = [(t[i], a[i]) for i in range(0, len(t))]\n",
        "print(\"input: \",m)\n",
        "m.sort(key = lambda x: x[1],reverse=1)  \n",
        "print(\"output\",m)"
      ],
      "execution_count": 7,
      "outputs": [
        {
          "output_type": "stream",
          "text": [
            "enter num of students: 5\n",
            "enter rollnum: 100\n",
            "enter marks: 90\n",
            "enter rollnum: 101\n",
            "enter marks: 85\n",
            "enter rollnum: 102\n",
            "enter marks: 78\n",
            "enter rollnum: 103\n",
            "enter marks: 65\n",
            "enter rollnum: 104\n",
            "enter marks: 87\n",
            "input:  [(100, 90), (101, 85), (102, 78), (103, 65), (104, 87)]\n",
            "output [(100, 90), (104, 87), (101, 85), (102, 78), (103, 65)]\n"
          ],
          "name": "stdout"
        }
      ]
    },
    {
      "cell_type": "markdown",
      "metadata": {
        "id": "CuaQcVYMKvBw",
        "colab_type": "text"
      },
      "source": [
        "# Get name and salary (name, salary) as list of tuples for n number of employees through keyboard and print them in name alphabetical order with salary"
      ]
    },
    {
      "cell_type": "code",
      "metadata": {
        "id": "vmTmPbzBKwAm",
        "colab_type": "code",
        "colab": {
          "base_uri": "https://localhost:8080/",
          "height": 181
        },
        "outputId": "d02756cf-eea5-4e2b-c300-6c8db70465ca"
      },
      "source": [
        "t=[]\n",
        "a=[]\n",
        "n=int(input(\"enter num of employees: \"))\n",
        "for i in range(0,n):\n",
        "  e=(input(\"enter name: \"))\n",
        "  j=float(input(\"enter salary: \"))\n",
        "  t.append(e)\n",
        "  a.append(j)\n",
        "m = [(t[i], a[i]) for i in range(0, len(t))]\n",
        "print(\"input: \",m)\n",
        "m.sort(key = lambda x: x[0])  \n",
        "print(\"output\",m)"
      ],
      "execution_count": 8,
      "outputs": [
        {
          "output_type": "stream",
          "text": [
            "enter num of employees: 3\n",
            "enter name: jeeth\n",
            "enter salary: 30000\n",
            "enter name: john\n",
            "enter salary: 45000\n",
            "enter name: seetha\n",
            "enter salary: 50000\n",
            "input:  [('jeeth', 30000.0), ('john', 45000.0), ('seetha', 50000.0)]\n",
            "output [('jeeth', 30000.0), ('john', 45000.0), ('seetha', 50000.0)]\n"
          ],
          "name": "stdout"
        }
      ]
    }
  ]
}